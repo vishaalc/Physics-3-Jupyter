{
 "cells": [
  {
   "cell_type": "code",
   "execution_count": 8,
   "metadata": {},
   "outputs": [
    {
     "name": "stdout",
     "output_type": "stream",
     "text": [
      "[-0.09090909 -0.45454545  0.36363636]\n"
     ]
    }
   ],
   "source": [
    "import numpy as np\n",
    "\n",
    "'''\n",
    "\tUnless your instructor provides you with other values, assume \n",
    "    each voltage source and each resistor has a value 10× its \n",
    "    identifying number. (i.e. V2=20 V, R3=30Ω.)\n",
    "'''\n",
    "\n",
    "''' \n",
    "EXERCISE 1\n",
    "\n",
    "1. On paper\n",
    "2.\n",
    "\n",
    "'''\n",
    "\n",
    "R1, R2, R3 = 10, 20, 30\n",
    "V1, V2 = 10, 20\n",
    "\n",
    "M = np.array([[R1, 0, R3], [0, -R2, R3], [1, -1, -1]])\n",
    "b = np.array([V1, V2, 0])\n",
    "\n",
    "x = np.linalg.solve(M, b)\n",
    "\n",
    "print x"
   ]
  },
  {
   "cell_type": "code",
   "execution_count": null,
   "metadata": {},
   "outputs": [],
   "source": [
    "'''\n",
    "3. Substituting currents back into the system of equations in 1, we can \n",
    "   verify that they are the solutions\n",
    "\n",
    "'''"
   ]
  },
  {
   "cell_type": "code",
   "execution_count": 9,
   "metadata": {},
   "outputs": [
    {
     "name": "stdout",
     "output_type": "stream",
     "text": [
      "[-0.09090909 -0.45454545  0.36363636 -1.         -0.8        -0.83333333]\n"
     ]
    }
   ],
   "source": [
    "'''\n",
    "\n",
    "EXERCISE 2\n",
    "\n",
    "1. On paper\n",
    "2. On paper\n",
    "3.\n",
    "\n",
    "'''\n",
    "\n",
    "R1, R2, R3, R4, R5, R6 = 10, 20, 30, 40, 50, 60\n",
    "V1, V2, V3, V4 = 10, 20, 30, 40\n",
    "\n",
    "M = np.array([\n",
    "\t\t\t\t[R1, 0, R3, 0, 0, 0],\n",
    "\t\t\t\t[0, 0, 0, -R4, 0, 0],\n",
    "\t\t\t\t[0, -R2, R3, R4, 0, -R6],\n",
    "\t\t\t\t[0, -R2, R3, 0, 0, 0],\n",
    "\t\t\t\t[1, -1, -1, 0, 0, 0],\n",
    "\t\t\t\t[0, 0, 0, 0, -R5, 0]\n",
    "\t\t\t])\n",
    "\n",
    "b = np.array([\n",
    "\t\t\t\tV1,\n",
    "\t\t\t\tV4,\n",
    "\t\t\t\tV3,\n",
    "\t\t\t\tV2,\n",
    "\t\t\t\t0,\n",
    "\t\t\t\tV4\n",
    "\t\t\t])\n",
    "\n",
    "I = np.linalg.solve(M, b)\n",
    "print I"
   ]
  },
  {
   "cell_type": "code",
   "execution_count": null,
   "metadata": {},
   "outputs": [],
   "source": [
    "'''\n",
    "4. Yes, the values of currents found solve the system of equations with \n",
    "   which we started (2)\n",
    "5. Both solutions for the exercises have the same values for I1, I2, I3. \n",
    "   This is because the circuit shown in Exercise 2 actually contains the \n",
    "   sub-loop of the same circuit for Exercise 1 from the upper left. As per \n",
    "   the assumption stated, the same values of R and V were also used in both exercises.\n",
    "\n",
    "'''"
   ]
  }
 ],
 "metadata": {
  "kernelspec": {
   "display_name": "Python 2",
   "language": "python",
   "name": "python2"
  },
  "language_info": {
   "codemirror_mode": {
    "name": "ipython",
    "version": 2
   },
   "file_extension": ".py",
   "mimetype": "text/x-python",
   "name": "python",
   "nbconvert_exporter": "python",
   "pygments_lexer": "ipython2",
   "version": "2.7.13"
  }
 },
 "nbformat": 4,
 "nbformat_minor": 2
}
