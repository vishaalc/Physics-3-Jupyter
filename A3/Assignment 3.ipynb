{
 "cells": [
  {
   "cell_type": "code",
   "execution_count": null,
   "metadata": {},
   "outputs": [],
   "source": [
    "from __future__ import division\n",
    "import math\n",
    "\n",
    "# r vector\n",
    "# r magnitude\n",
    "# r unit vector\n",
    "# E(n)\n",
    "\n",
    "\n",
    "def rod(n):\n",
    "\n",
    "    piece = 1 / n\n",
    "\n",
    "    Q = piece * (10**-6)\n",
    "    K = 9.0 * (10**9)\n",
    "\n",
    "    E_calc = [0, 0, 0]\n",
    "\n",
    "    for i in range(1, n + 1):\n",
    "\n",
    "        ry = 0.5 - ((2*i) - 1) * (piece/2)\n",
    "        r = [0.1, ry, 0.0]\n",
    "        #r = [0,0.6,0]\n",
    "        #r = [0.1, 0.5, 0]\n",
    "\n",
    "        x = r[0]\n",
    "        y = r[1]\n",
    "        z = r[2]\n",
    "\n",
    "        r_mag = math.sqrt(x**2 + y**2 + z**2)\n",
    "        r_unit = [x/r_mag, y/r_mag, z/r_mag]\n",
    "\n",
    "        E = (K*Q)/r_mag**2\n",
    "        E_net = [E*r_unit[0], E*r_unit[1], E*r_unit[2]]\n",
    "\n",
    "        E_calc[0] += E_net[0]\n",
    "        E_calc[1] += E_net[1]\n",
    "        E_calc[2] += E_net[2]\n",
    "\n",
    "    return E_calc;\n",
    "\n",
    "\n",
    "def main():\n",
    "    print rod(6)\n",
    "\n",
    "\n",
    "main()\n",
    "\n",
    "\n",
    "\n",
    "\n"
   ]
  }
 ],
 "metadata": {
  "kernelspec": {
   "display_name": "Python 2",
   "language": "python",
   "name": "python2"
  },
  "language_info": {
   "codemirror_mode": {
    "name": "ipython",
    "version": 2
   },
   "file_extension": ".py",
   "mimetype": "text/x-python",
   "name": "python",
   "nbconvert_exporter": "python",
   "pygments_lexer": "ipython2",
   "version": "2.7.13"
  }
 },
 "nbformat": 4,
 "nbformat_minor": 2
}
